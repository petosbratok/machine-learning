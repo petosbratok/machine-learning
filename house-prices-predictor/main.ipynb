{
  "nbformat": 4,
  "nbformat_minor": 0,
  "metadata": {
    "colab": {
      "provenance": [],
      "collapsed_sections": []
    },
    "kernelspec": {
      "name": "python3",
      "display_name": "Python 3"
    },
    "language_info": {
      "name": "python"
    }
  },
  "cells": [
    {
      "cell_type": "code",
      "execution_count": null,
      "metadata": {
        "id": "YoW_pHjC6E7q"
      },
      "outputs": [],
      "source": [
        "import pandas as pd\n",
        "import numpy as np\n",
        "\n",
        "# Make numpy values easier to read.\n",
        "np.set_printoptions(precision=3, suppress=True)\n",
        "\n",
        "import tensorflow as tf\n",
        "from tensorflow.keras import layers\n",
        "from tensorflow.keras.layers.experimental import preprocessing\n",
        "from tensorflow.keras import regularizers\n",
        "#from sklearn import preprocessing\n",
        "from sklearn.model_selection import train_test_split"
      ]
    },
    {
      "cell_type": "code",
      "source": [
        "CATEGORICAL_COLUMNS = ['MSSubClass', 'MSZoning']\n",
        "NUMERIC_COLUMNS = ['LotFrontage', 'LotArea','OverallQual','OverallCond']"
      ],
      "metadata": {
        "id": "Co4pzZfq62Ix"
      },
      "execution_count": null,
      "outputs": []
    },
    {
      "cell_type": "code",
      "source": [
        "housePrices=pd.read_csv('train.csv')"
      ],
      "metadata": {
        "id": "vINPPDwn6tir"
      },
      "execution_count": null,
      "outputs": []
    },
    {
      "cell_type": "code",
      "source": [
        "housePrices = housePrices[['MSSubClass', 'MSZoning', 'LotFrontage', 'LotArea', 'LotShape', 'OverallQual','OverallCond', 'SalePrice']]"
      ],
      "metadata": {
        "id": "Jk2FhGrg68r3"
      },
      "execution_count": null,
      "outputs": []
    },
    {
      "cell_type": "code",
      "source": [
        "housePrices.head()"
      ],
      "metadata": {
        "colab": {
          "base_uri": "https://localhost:8080/",
          "height": 206
        },
        "id": "rq3ql3qR7DYG",
        "outputId": "09b2a339-e2a5-4ecb-c16e-888da2ec6126"
      },
      "execution_count": null,
      "outputs": [
        {
          "output_type": "execute_result",
          "data": {
            "text/plain": [
              "   MSSubClass MSZoning  LotFrontage  LotArea LotShape  OverallQual  \\\n",
              "0          60       RL         65.0     8450      Reg            7   \n",
              "1          20       RL         80.0     9600      Reg            6   \n",
              "2          60       RL         68.0    11250      IR1            7   \n",
              "3          70       RL         60.0     9550      IR1            7   \n",
              "4          60       RL         84.0    14260      IR1            8   \n",
              "\n",
              "   OverallCond  SalePrice  \n",
              "0            5     208500  \n",
              "1            8     181500  \n",
              "2            5     223500  \n",
              "3            5     140000  \n",
              "4            5     250000  "
            ],
            "text/html": [
              "\n",
              "  <div id=\"df-5e2931b9-e81b-494b-8486-4bc9ad21884a\">\n",
              "    <div class=\"colab-df-container\">\n",
              "      <div>\n",
              "<style scoped>\n",
              "    .dataframe tbody tr th:only-of-type {\n",
              "        vertical-align: middle;\n",
              "    }\n",
              "\n",
              "    .dataframe tbody tr th {\n",
              "        vertical-align: top;\n",
              "    }\n",
              "\n",
              "    .dataframe thead th {\n",
              "        text-align: right;\n",
              "    }\n",
              "</style>\n",
              "<table border=\"1\" class=\"dataframe\">\n",
              "  <thead>\n",
              "    <tr style=\"text-align: right;\">\n",
              "      <th></th>\n",
              "      <th>MSSubClass</th>\n",
              "      <th>MSZoning</th>\n",
              "      <th>LotFrontage</th>\n",
              "      <th>LotArea</th>\n",
              "      <th>LotShape</th>\n",
              "      <th>OverallQual</th>\n",
              "      <th>OverallCond</th>\n",
              "      <th>SalePrice</th>\n",
              "    </tr>\n",
              "  </thead>\n",
              "  <tbody>\n",
              "    <tr>\n",
              "      <th>0</th>\n",
              "      <td>60</td>\n",
              "      <td>RL</td>\n",
              "      <td>65.0</td>\n",
              "      <td>8450</td>\n",
              "      <td>Reg</td>\n",
              "      <td>7</td>\n",
              "      <td>5</td>\n",
              "      <td>208500</td>\n",
              "    </tr>\n",
              "    <tr>\n",
              "      <th>1</th>\n",
              "      <td>20</td>\n",
              "      <td>RL</td>\n",
              "      <td>80.0</td>\n",
              "      <td>9600</td>\n",
              "      <td>Reg</td>\n",
              "      <td>6</td>\n",
              "      <td>8</td>\n",
              "      <td>181500</td>\n",
              "    </tr>\n",
              "    <tr>\n",
              "      <th>2</th>\n",
              "      <td>60</td>\n",
              "      <td>RL</td>\n",
              "      <td>68.0</td>\n",
              "      <td>11250</td>\n",
              "      <td>IR1</td>\n",
              "      <td>7</td>\n",
              "      <td>5</td>\n",
              "      <td>223500</td>\n",
              "    </tr>\n",
              "    <tr>\n",
              "      <th>3</th>\n",
              "      <td>70</td>\n",
              "      <td>RL</td>\n",
              "      <td>60.0</td>\n",
              "      <td>9550</td>\n",
              "      <td>IR1</td>\n",
              "      <td>7</td>\n",
              "      <td>5</td>\n",
              "      <td>140000</td>\n",
              "    </tr>\n",
              "    <tr>\n",
              "      <th>4</th>\n",
              "      <td>60</td>\n",
              "      <td>RL</td>\n",
              "      <td>84.0</td>\n",
              "      <td>14260</td>\n",
              "      <td>IR1</td>\n",
              "      <td>8</td>\n",
              "      <td>5</td>\n",
              "      <td>250000</td>\n",
              "    </tr>\n",
              "  </tbody>\n",
              "</table>\n",
              "</div>\n",
              "      <button class=\"colab-df-convert\" onclick=\"convertToInteractive('df-5e2931b9-e81b-494b-8486-4bc9ad21884a')\"\n",
              "              title=\"Convert this dataframe to an interactive table.\"\n",
              "              style=\"display:none;\">\n",
              "        \n",
              "  <svg xmlns=\"http://www.w3.org/2000/svg\" height=\"24px\"viewBox=\"0 0 24 24\"\n",
              "       width=\"24px\">\n",
              "    <path d=\"M0 0h24v24H0V0z\" fill=\"none\"/>\n",
              "    <path d=\"M18.56 5.44l.94 2.06.94-2.06 2.06-.94-2.06-.94-.94-2.06-.94 2.06-2.06.94zm-11 1L8.5 8.5l.94-2.06 2.06-.94-2.06-.94L8.5 2.5l-.94 2.06-2.06.94zm10 10l.94 2.06.94-2.06 2.06-.94-2.06-.94-.94-2.06-.94 2.06-2.06.94z\"/><path d=\"M17.41 7.96l-1.37-1.37c-.4-.4-.92-.59-1.43-.59-.52 0-1.04.2-1.43.59L10.3 9.45l-7.72 7.72c-.78.78-.78 2.05 0 2.83L4 21.41c.39.39.9.59 1.41.59.51 0 1.02-.2 1.41-.59l7.78-7.78 2.81-2.81c.8-.78.8-2.07 0-2.86zM5.41 20L4 18.59l7.72-7.72 1.47 1.35L5.41 20z\"/>\n",
              "  </svg>\n",
              "      </button>\n",
              "      \n",
              "  <style>\n",
              "    .colab-df-container {\n",
              "      display:flex;\n",
              "      flex-wrap:wrap;\n",
              "      gap: 12px;\n",
              "    }\n",
              "\n",
              "    .colab-df-convert {\n",
              "      background-color: #E8F0FE;\n",
              "      border: none;\n",
              "      border-radius: 50%;\n",
              "      cursor: pointer;\n",
              "      display: none;\n",
              "      fill: #1967D2;\n",
              "      height: 32px;\n",
              "      padding: 0 0 0 0;\n",
              "      width: 32px;\n",
              "    }\n",
              "\n",
              "    .colab-df-convert:hover {\n",
              "      background-color: #E2EBFA;\n",
              "      box-shadow: 0px 1px 2px rgba(60, 64, 67, 0.3), 0px 1px 3px 1px rgba(60, 64, 67, 0.15);\n",
              "      fill: #174EA6;\n",
              "    }\n",
              "\n",
              "    [theme=dark] .colab-df-convert {\n",
              "      background-color: #3B4455;\n",
              "      fill: #D2E3FC;\n",
              "    }\n",
              "\n",
              "    [theme=dark] .colab-df-convert:hover {\n",
              "      background-color: #434B5C;\n",
              "      box-shadow: 0px 1px 3px 1px rgba(0, 0, 0, 0.15);\n",
              "      filter: drop-shadow(0px 1px 2px rgba(0, 0, 0, 0.3));\n",
              "      fill: #FFFFFF;\n",
              "    }\n",
              "  </style>\n",
              "\n",
              "      <script>\n",
              "        const buttonEl =\n",
              "          document.querySelector('#df-5e2931b9-e81b-494b-8486-4bc9ad21884a button.colab-df-convert');\n",
              "        buttonEl.style.display =\n",
              "          google.colab.kernel.accessAllowed ? 'block' : 'none';\n",
              "\n",
              "        async function convertToInteractive(key) {\n",
              "          const element = document.querySelector('#df-5e2931b9-e81b-494b-8486-4bc9ad21884a');\n",
              "          const dataTable =\n",
              "            await google.colab.kernel.invokeFunction('convertToInteractive',\n",
              "                                                     [key], {});\n",
              "          if (!dataTable) return;\n",
              "\n",
              "          const docLinkHtml = 'Like what you see? Visit the ' +\n",
              "            '<a target=\"_blank\" href=https://colab.research.google.com/notebooks/data_table.ipynb>data table notebook</a>'\n",
              "            + ' to learn more about interactive tables.';\n",
              "          element.innerHTML = '';\n",
              "          dataTable['output_type'] = 'display_data';\n",
              "          await google.colab.output.renderOutput(dataTable, element);\n",
              "          const docLink = document.createElement('div');\n",
              "          docLink.innerHTML = docLinkHtml;\n",
              "          element.appendChild(docLink);\n",
              "        }\n",
              "      </script>\n",
              "    </div>\n",
              "  </div>\n",
              "  "
            ]
          },
          "metadata": {},
          "execution_count": 11
        }
      ]
    },
    {
      "cell_type": "code",
      "source": [
        "housePrices['LotFrontage'].fillna(housePrices['LotFrontage'].mean(), inplace=True)\n",
        "housePrices.info()"
      ],
      "metadata": {
        "colab": {
          "base_uri": "https://localhost:8080/"
        },
        "id": "sAXfJG5CAVuq",
        "outputId": "6d722fd8-4dcf-41fd-c907-70f75b576be4"
      },
      "execution_count": null,
      "outputs": [
        {
          "output_type": "stream",
          "name": "stdout",
          "text": [
            "<class 'pandas.core.frame.DataFrame'>\n",
            "RangeIndex: 1460 entries, 0 to 1459\n",
            "Data columns (total 8 columns):\n",
            " #   Column       Non-Null Count  Dtype  \n",
            "---  ------       --------------  -----  \n",
            " 0   MSSubClass   1460 non-null   object \n",
            " 1   MSZoning     1460 non-null   object \n",
            " 2   LotFrontage  1460 non-null   float64\n",
            " 3   LotArea      1460 non-null   int64  \n",
            " 4   LotShape     1460 non-null   object \n",
            " 5   OverallQual  1460 non-null   int64  \n",
            " 6   OverallCond  1460 non-null   int64  \n",
            " 7   SalePrice    1460 non-null   int64  \n",
            "dtypes: float64(1), int64(4), object(3)\n",
            "memory usage: 91.4+ KB\n"
          ]
        }
      ]
    },
    {
      "cell_type": "code",
      "source": [
        "housePrices['MSSubClass'] = housePrices['MSSubClass'].astype(str) "
      ],
      "metadata": {
        "id": "m86fBl9v7bOg"
      },
      "execution_count": null,
      "outputs": []
    },
    {
      "cell_type": "code",
      "source": [
        "housePrices.dtypes"
      ],
      "metadata": {
        "colab": {
          "base_uri": "https://localhost:8080/"
        },
        "id": "BKjKafuR7gr6",
        "outputId": "eed0fbb6-f399-48e4-bbe9-37010a808c3f"
      },
      "execution_count": null,
      "outputs": [
        {
          "output_type": "execute_result",
          "data": {
            "text/plain": [
              "MSSubClass      object\n",
              "MSZoning        object\n",
              "LotFrontage    float64\n",
              "LotArea          int64\n",
              "LotShape        object\n",
              "OverallQual      int64\n",
              "OverallCond      int64\n",
              "SalePrice        int64\n",
              "dtype: object"
            ]
          },
          "metadata": {},
          "execution_count": 14
        }
      ]
    },
    {
      "cell_type": "code",
      "source": [
        "train, test = train_test_split(housePrices, test_size=0.2)\n",
        "train, val = train_test_split(train, test_size=0.2)\n",
        "print(len(train), 'train examples')\n",
        "print(len(val), 'validation examples')\n",
        "print(len(test), 'test examples')"
      ],
      "metadata": {
        "colab": {
          "base_uri": "https://localhost:8080/"
        },
        "id": "Ci6RNuDz7_QB",
        "outputId": "9b92afda-ba4a-44e0-e4d7-507037a943b4"
      },
      "execution_count": null,
      "outputs": [
        {
          "output_type": "stream",
          "name": "stdout",
          "text": [
            "934 train examples\n",
            "234 validation examples\n",
            "292 test examples\n"
          ]
        }
      ]
    },
    {
      "cell_type": "code",
      "source": [
        "housePrices_features = train.copy()\n",
        "housePrices_labels = housePrices_features.pop('SalePrice')\n",
        "housePrices_labels = housePrices_labels/100000\n",
        "\n",
        "val_features = val.copy()\n",
        "val_labels = val.pop('SalePrice')\n",
        "val_labels = val_labels/100000"
      ],
      "metadata": {
        "id": "g5PQRhZt8Jhv"
      },
      "execution_count": null,
      "outputs": []
    },
    {
      "cell_type": "code",
      "source": [
        "print(housePrices_features.dtypes)\n",
        "print(housePrices_labels.dtypes)"
      ],
      "metadata": {
        "colab": {
          "base_uri": "https://localhost:8080/"
        },
        "id": "pSuSBmnS-1xm",
        "outputId": "a4d0a834-020f-411b-9ecb-3cecbe9d4bb7"
      },
      "execution_count": null,
      "outputs": [
        {
          "output_type": "stream",
          "name": "stdout",
          "text": [
            "MSSubClass      object\n",
            "MSZoning        object\n",
            "LotFrontage    float64\n",
            "LotArea          int64\n",
            "LotShape        object\n",
            "OverallQual      int64\n",
            "OverallCond      int64\n",
            "dtype: object\n",
            "float64\n"
          ]
        }
      ]
    },
    {
      "cell_type": "code",
      "source": [
        "inputs = {}\n",
        "\n",
        "for name, column in housePrices_features.items():\n",
        "  dtype = column.dtype\n",
        "  if dtype == object:\n",
        "    dtype = tf.string\n",
        "  else:\n",
        "    dtype = tf.float32\n",
        "\n",
        "  inputs[name] = tf.keras.Input(shape=(1,), name=name, dtype=dtype)\n",
        "\n",
        "inputs"
      ],
      "metadata": {
        "colab": {
          "base_uri": "https://localhost:8080/"
        },
        "id": "eTfPmW36-80D",
        "outputId": "3760eb97-f95e-4e38-a5fc-65d012026656"
      },
      "execution_count": null,
      "outputs": [
        {
          "output_type": "execute_result",
          "data": {
            "text/plain": [
              "{'MSSubClass': <KerasTensor: shape=(None, 1) dtype=string (created by layer 'MSSubClass')>,\n",
              " 'MSZoning': <KerasTensor: shape=(None, 1) dtype=string (created by layer 'MSZoning')>,\n",
              " 'LotFrontage': <KerasTensor: shape=(None, 1) dtype=float32 (created by layer 'LotFrontage')>,\n",
              " 'LotArea': <KerasTensor: shape=(None, 1) dtype=float32 (created by layer 'LotArea')>,\n",
              " 'LotShape': <KerasTensor: shape=(None, 1) dtype=string (created by layer 'LotShape')>,\n",
              " 'OverallQual': <KerasTensor: shape=(None, 1) dtype=float32 (created by layer 'OverallQual')>,\n",
              " 'OverallCond': <KerasTensor: shape=(None, 1) dtype=float32 (created by layer 'OverallCond')>}"
            ]
          },
          "metadata": {},
          "execution_count": 32
        }
      ]
    },
    {
      "cell_type": "code",
      "source": [
        "numeric_inputs = {name:input for name,input in inputs.items()\n",
        "                  if input.dtype==tf.float32}\n",
        "\n",
        "x = layers.Concatenate()(list(numeric_inputs.values()))\n",
        "norm = preprocessing.Normalization()\n",
        "norm.adapt(np.array(housePrices[numeric_inputs.keys()]))\n",
        "all_numeric_inputs = norm(x)\n",
        "\n",
        "all_numeric_inputs"
      ],
      "metadata": {
        "colab": {
          "base_uri": "https://localhost:8080/"
        },
        "id": "ZH-YurrA_OKP",
        "outputId": "7c09033a-894d-430a-db15-d45d23b5058a"
      },
      "execution_count": null,
      "outputs": [
        {
          "output_type": "execute_result",
          "data": {
            "text/plain": [
              "<KerasTensor: shape=(None, 4) dtype=float32 (created by layer 'normalization_1')>"
            ]
          },
          "metadata": {},
          "execution_count": 33
        }
      ]
    },
    {
      "cell_type": "code",
      "source": [
        "preprocessed_inputs = [all_numeric_inputs]"
      ],
      "metadata": {
        "id": "9v2Y_2M3_dn9"
      },
      "execution_count": null,
      "outputs": []
    },
    {
      "cell_type": "code",
      "source": [
        "for name, input in inputs.items():\n",
        "  if input.dtype == tf.float32:\n",
        "    continue\n",
        "  \n",
        "  lookup = preprocessing.StringLookup(vocabulary=np.unique(housePrices_features[name]))\n",
        "  one_hot = preprocessing.CategoryEncoding(max_tokens=lookup.vocab_size())\n",
        "\n",
        "  x = lookup(input)\n",
        "  x = one_hot(x)\n",
        "  preprocessed_inputs.append(x)"
      ],
      "metadata": {
        "colab": {
          "base_uri": "https://localhost:8080/"
        },
        "id": "Ci3jq4_O_jeF",
        "outputId": "6c25d732-3182-4c86-be3e-d802097e62c1"
      },
      "execution_count": null,
      "outputs": [
        {
          "output_type": "stream",
          "name": "stderr",
          "text": [
            "WARNING:tensorflow:vocab_size is deprecated, please use vocabulary_size.\n",
            "WARNING:tensorflow:max_tokens is deprecated, please use num_tokens instead.\n",
            "WARNING:tensorflow:vocab_size is deprecated, please use vocabulary_size.\n",
            "WARNING:tensorflow:max_tokens is deprecated, please use num_tokens instead.\n",
            "WARNING:tensorflow:vocab_size is deprecated, please use vocabulary_size.\n",
            "WARNING:tensorflow:max_tokens is deprecated, please use num_tokens instead.\n"
          ]
        }
      ]
    },
    {
      "cell_type": "code",
      "source": [
        "preprocessed_inputs_cat = layers.Concatenate()(preprocessed_inputs)\n",
        "\n",
        "housePrices_preprocessing = tf.keras.Model(inputs, preprocessed_inputs_cat)\n",
        "\n",
        "tf.keras.utils.plot_model(model = housePrices_preprocessing , rankdir=\"LR\", dpi=72, show_shapes=True)"
      ],
      "metadata": {
        "colab": {
          "base_uri": "https://localhost:8080/",
          "height": 784
        },
        "id": "Nq9rjCUH_qfw",
        "outputId": "f8e3a215-fd63-4ed2-8df6-fa35aa84b630"
      },
      "execution_count": null,
      "outputs": [
        {
          "output_type": "execute_result",
          "data": {
            "image/png": "[encoded data removed]",
            "text/plain": [
              "<IPython.core.display.Image object>"
            ]
          },
          "metadata": {},
          "execution_count": 36
        }
      ]
    },
    {
      "cell_type": "code",
      "source": [
        "housePrices_features_dict = {name: np.array(value) \n",
        "                         for name, value in housePrices_features.items()}"
      ],
      "metadata": {
        "id": "UK4Cpu2JAHNn"
      },
      "execution_count": null,
      "outputs": []
    },
    {
      "cell_type": "code",
      "source": [
        "features_dict = {name:values[:1] for name, values in housePrices_features_dict.items()}\n",
        "housePrices_preprocessing(features_dict)"
      ],
      "metadata": {
        "colab": {
          "base_uri": "https://localhost:8080/"
        },
        "id": "yHNfIAe1APN5",
        "outputId": "5ef103af-34ce-47b0-d1be-e8e663d06fbe"
      },
      "execution_count": null,
      "outputs": [
        {
          "output_type": "execute_result",
          "data": {
            "text/plain": [
              "<tf.Tensor: shape=(1, 31), dtype=float32, numpy=\n",
              "array([[1.179, 0.076, 0.651, 1.281, 0.   , 0.   , 0.   , 0.   , 0.   ,\n",
              "        0.   , 0.   , 0.   , 0.   , 0.   , 0.   , 0.   , 0.   , 1.   ,\n",
              "        0.   , 0.   , 0.   , 0.   , 0.   , 0.   , 1.   , 0.   , 0.   ,\n",
              "        0.   , 0.   , 0.   , 1.   ]], dtype=float32)>"
            ]
          },
          "metadata": {},
          "execution_count": 38
        }
      ]
    },
    {
      "cell_type": "code",
      "source": [
        "def housePrices_model(preprocessing_head, inputs):\n",
        "  body = tf.keras.Sequential([\n",
        "    layers.Dense(128,activation='relu', kernel_regularizer=regularizers.l2(0.001)),\n",
        "    layers.Dense(64,activation='relu'),\n",
        "    #layers.Dense(64,activation='relu'),\n",
        "    layers.Dense(1)\n",
        "  ])\n",
        "\n",
        "  preprocessed_inputs = preprocessing_head(inputs)\n",
        "  result = body(preprocessed_inputs)\n",
        "  model = tf.keras.Model(inputs, result)\n",
        "\n",
        "  model.compile(loss='mse', optimizer='adam', metrics=['mae'])\n",
        "  return model\n",
        "\n",
        "housePrices_model = housePrices_model(housePrices_preprocessing, inputs)"
      ],
      "metadata": {
        "id": "TWQDa2fkAyPz"
      },
      "execution_count": null,
      "outputs": []
    },
    {
      "cell_type": "code",
      "source": [
        "val_features_dict = {name: np.array(value) \n",
        "                         for name, value in val.items()}\n",
        "history_1 = housePrices_model.fit(x=housePrices_features_dict, y=housePrices_labels,epochs=250,\n",
        "                        validation_data=(val_features_dict, val_labels))"
      ],
      "metadata": {
        "colab": {
          "base_uri": "https://localhost:8080/"
        },
        "id": "4wjGRMxuBX25",
        "outputId": "3abcc04d-6d45-45b6-fe7f-6359a03096cf"
      },
      "execution_count": null,
      "outputs": [
        {
          "output_type": "stream",
          "name": "stdout",
          "text": [
            "Epoch 1/250\n",
            "30/30 [==============================] - 1s 15ms/step - loss: 1.2718 - mae: 0.8117 - val_loss: 0.4649 - val_mae: 0.4635\n",
            "Epoch 2/250\n",
            "30/30 [==============================] - 0s 5ms/step - loss: 0.3318 - mae: 0.3469 - val_loss: 0.1980 - val_mae: 0.2849\n",
            "Epoch 3/250\n",
            "30/30 [==============================] - 0s 4ms/step - loss: 0.2436 - mae: 0.3063 - val_loss: 0.1814 - val_mae: 0.2655\n",
            "Epoch 4/250\n",
            "30/30 [==============================] - 0s 4ms/step - loss: 0.2152 - mae: 0.2891 - val_loss: 0.1680 - val_mae: 0.2563\n",
            "Epoch 5/250\n",
            "30/30 [==============================] - 0s 4ms/step - loss: 0.1988 - mae: 0.2748 - val_loss: 0.1643 - val_mae: 0.2558\n",
            "Epoch 6/250\n",
            "30/30 [==============================] - 0s 4ms/step - loss: 0.1867 - mae: 0.2624 - val_loss: 0.1624 - val_mae: 0.2552\n",
            "Epoch 7/250\n",
            "30/30 [==============================] - 0s 4ms/step - loss: 0.1796 - mae: 0.2601 - val_loss: 0.1537 - val_mae: 0.2456\n",
            "Epoch 8/250\n",
            "30/30 [==============================] - 0s 4ms/step - loss: 0.1778 - mae: 0.2566 - val_loss: 0.1503 - val_mae: 0.2417\n",
            "Epoch 9/250\n",
            "30/30 [==============================] - 0s 4ms/step - loss: 0.1677 - mae: 0.2541 - val_loss: 0.1539 - val_mae: 0.2489\n",
            "Epoch 10/250\n",
            "30/30 [==============================] - 0s 4ms/step - loss: 0.1635 - mae: 0.2459 - val_loss: 0.1480 - val_mae: 0.2398\n",
            "Epoch 11/250\n",
            "30/30 [==============================] - 0s 4ms/step - loss: 0.1604 - mae: 0.2435 - val_loss: 0.1476 - val_mae: 0.2421\n",
            "Epoch 12/250\n",
            "30/30 [==============================] - 0s 4ms/step - loss: 0.1662 - mae: 0.2487 - val_loss: 0.1609 - val_mae: 0.2557\n",
            "Epoch 13/250\n",
            "30/30 [==============================] - 0s 4ms/step - loss: 0.1571 - mae: 0.2413 - val_loss: 0.1437 - val_mae: 0.2395\n",
            "Epoch 14/250\n",
            "30/30 [==============================] - 0s 4ms/step - loss: 0.1465 - mae: 0.2373 - val_loss: 0.1523 - val_mae: 0.2500\n",
            "Epoch 15/250\n",
            "30/30 [==============================] - 0s 4ms/step - loss: 0.1464 - mae: 0.2337 - val_loss: 0.1445 - val_mae: 0.2381\n",
            "Epoch 16/250\n",
            "30/30 [==============================] - 0s 4ms/step - loss: 0.1424 - mae: 0.2338 - val_loss: 0.1535 - val_mae: 0.2488\n",
            "Epoch 17/250\n",
            "30/30 [==============================] - 0s 5ms/step - loss: 0.1686 - mae: 0.2567 - val_loss: 0.1557 - val_mae: 0.2540\n",
            "Epoch 18/250\n",
            "30/30 [==============================] - 0s 4ms/step - loss: 0.1407 - mae: 0.2300 - val_loss: 0.1474 - val_mae: 0.2439\n",
            "Epoch 19/250\n",
            "30/30 [==============================] - 0s 4ms/step - loss: 0.1394 - mae: 0.2331 - val_loss: 0.1491 - val_mae: 0.2487\n",
            "Epoch 20/250\n",
            "30/30 [==============================] - 0s 4ms/step - loss: 0.1372 - mae: 0.2294 - val_loss: 0.1539 - val_mae: 0.2536\n",
            "Epoch 21/250\n",
            "30/30 [==============================] - 0s 4ms/step - loss: 0.1343 - mae: 0.2270 - val_loss: 0.1454 - val_mae: 0.2436\n",
            "Epoch 22/250\n",
            "30/30 [==============================] - 0s 4ms/step - loss: 0.1281 - mae: 0.2213 - val_loss: 0.1471 - val_mae: 0.2438\n",
            "Epoch 23/250\n",
            "30/30 [==============================] - 0s 4ms/step - loss: 0.1273 - mae: 0.2192 - val_loss: 0.1466 - val_mae: 0.2444\n",
            "Epoch 24/250\n",
            "30/30 [==============================] - 0s 4ms/step - loss: 0.1280 - mae: 0.2230 - val_loss: 0.1483 - val_mae: 0.2442\n",
            "Epoch 25/250\n",
            "30/30 [==============================] - 0s 4ms/step - loss: 0.1309 - mae: 0.2250 - val_loss: 0.1513 - val_mae: 0.2515\n",
            "Epoch 26/250\n",
            "30/30 [==============================] - 0s 4ms/step - loss: 0.1251 - mae: 0.2237 - val_loss: 0.1429 - val_mae: 0.2413\n",
            "Epoch 27/250\n",
            "30/30 [==============================] - 0s 4ms/step - loss: 0.1204 - mae: 0.2149 - val_loss: 0.1462 - val_mae: 0.2460\n",
            "Epoch 28/250\n",
            "30/30 [==============================] - 0s 4ms/step - loss: 0.1196 - mae: 0.2149 - val_loss: 0.1506 - val_mae: 0.2509\n",
            "Epoch 29/250\n",
            "30/30 [==============================] - 0s 4ms/step - loss: 0.1227 - mae: 0.2170 - val_loss: 0.1567 - val_mae: 0.2574\n",
            "Epoch 30/250\n",
            "30/30 [==============================] - 0s 4ms/step - loss: 0.1206 - mae: 0.2151 - val_loss: 0.1493 - val_mae: 0.2463\n",
            "Epoch 31/250\n",
            "30/30 [==============================] - 0s 4ms/step - loss: 0.1163 - mae: 0.2125 - val_loss: 0.1491 - val_mae: 0.2471\n",
            "Epoch 32/250\n",
            "30/30 [==============================] - 0s 5ms/step - loss: 0.1177 - mae: 0.2160 - val_loss: 0.1560 - val_mae: 0.2574\n",
            "Epoch 33/250\n",
            "30/30 [==============================] - 0s 4ms/step - loss: 0.1156 - mae: 0.2133 - val_loss: 0.1508 - val_mae: 0.2501\n",
            "Epoch 34/250\n",
            "30/30 [==============================] - 0s 4ms/step - loss: 0.1139 - mae: 0.2129 - val_loss: 0.1462 - val_mae: 0.2415\n",
            "Epoch 35/250\n",
            "30/30 [==============================] - 0s 4ms/step - loss: 0.1102 - mae: 0.2069 - val_loss: 0.1529 - val_mae: 0.2556\n",
            "Epoch 36/250\n",
            "30/30 [==============================] - 0s 4ms/step - loss: 0.1101 - mae: 0.2072 - val_loss: 0.1483 - val_mae: 0.2472\n",
            "Epoch 37/250\n",
            "30/30 [==============================] - 0s 4ms/step - loss: 0.1123 - mae: 0.2126 - val_loss: 0.1597 - val_mae: 0.2614\n",
            "Epoch 38/250\n",
            "30/30 [==============================] - 0s 4ms/step - loss: 0.1155 - mae: 0.2159 - val_loss: 0.1564 - val_mae: 0.2535\n",
            "Epoch 39/250\n",
            "30/30 [==============================] - 0s 4ms/step - loss: 0.1071 - mae: 0.2070 - val_loss: 0.1476 - val_mae: 0.2477\n",
            "Epoch 40/250\n",
            "30/30 [==============================] - 0s 4ms/step - loss: 0.1049 - mae: 0.2032 - val_loss: 0.1520 - val_mae: 0.2464\n",
            "Epoch 41/250\n",
            "30/30 [==============================] - 0s 4ms/step - loss: 0.1067 - mae: 0.2046 - val_loss: 0.1546 - val_mae: 0.2538\n",
            "Epoch 42/250\n",
            "30/30 [==============================] - 0s 4ms/step - loss: 0.1047 - mae: 0.2021 - val_loss: 0.1507 - val_mae: 0.2521\n",
            "Epoch 43/250\n",
            "30/30 [==============================] - 0s 4ms/step - loss: 0.1040 - mae: 0.2036 - val_loss: 0.1521 - val_mae: 0.2532\n",
            "Epoch 44/250\n",
            "30/30 [==============================] - 0s 4ms/step - loss: 0.1042 - mae: 0.2034 - val_loss: 0.1552 - val_mae: 0.2540\n",
            "Epoch 45/250\n",
            "30/30 [==============================] - 0s 4ms/step - loss: 0.0995 - mae: 0.1972 - val_loss: 0.1530 - val_mae: 0.2518\n",
            "Epoch 46/250\n",
            "30/30 [==============================] - 0s 4ms/step - loss: 0.1013 - mae: 0.2008 - val_loss: 0.1528 - val_mae: 0.2557\n",
            "Epoch 47/250\n",
            "30/30 [==============================] - 0s 4ms/step - loss: 0.1012 - mae: 0.2008 - val_loss: 0.1504 - val_mae: 0.2501\n",
            "Epoch 48/250\n",
            "30/30 [==============================] - 0s 4ms/step - loss: 0.1045 - mae: 0.2055 - val_loss: 0.1618 - val_mae: 0.2605\n",
            "Epoch 49/250\n",
            "30/30 [==============================] - 0s 4ms/step - loss: 0.1036 - mae: 0.2015 - val_loss: 0.1532 - val_mae: 0.2568\n",
            "Epoch 50/250\n",
            "30/30 [==============================] - 0s 4ms/step - loss: 0.1057 - mae: 0.2090 - val_loss: 0.1573 - val_mae: 0.2598\n",
            "Epoch 51/250\n",
            "30/30 [==============================] - 0s 4ms/step - loss: 0.0999 - mae: 0.2007 - val_loss: 0.1565 - val_mae: 0.2615\n",
            "Epoch 52/250\n",
            "30/30 [==============================] - 0s 6ms/step - loss: 0.0964 - mae: 0.1950 - val_loss: 0.1554 - val_mae: 0.2527\n",
            "Epoch 53/250\n",
            "30/30 [==============================] - 0s 4ms/step - loss: 0.0983 - mae: 0.2007 - val_loss: 0.1576 - val_mae: 0.2598\n",
            "Epoch 54/250\n",
            "30/30 [==============================] - 0s 4ms/step - loss: 0.0949 - mae: 0.1917 - val_loss: 0.1608 - val_mae: 0.2598\n",
            "Epoch 55/250\n",
            "30/30 [==============================] - 0s 4ms/step - loss: 0.0988 - mae: 0.1998 - val_loss: 0.1614 - val_mae: 0.2616\n",
            "Epoch 56/250\n",
            "30/30 [==============================] - 0s 4ms/step - loss: 0.0975 - mae: 0.2014 - val_loss: 0.1656 - val_mae: 0.2678\n",
            "Epoch 57/250\n",
            "30/30 [==============================] - 0s 5ms/step - loss: 0.0949 - mae: 0.1952 - val_loss: 0.1752 - val_mae: 0.2663\n",
            "Epoch 58/250\n",
            "30/30 [==============================] - 0s 4ms/step - loss: 0.0985 - mae: 0.1955 - val_loss: 0.1722 - val_mae: 0.2773\n",
            "Epoch 59/250\n",
            "30/30 [==============================] - 0s 4ms/step - loss: 0.1094 - mae: 0.2087 - val_loss: 0.1583 - val_mae: 0.2617\n",
            "Epoch 60/250\n",
            "30/30 [==============================] - 0s 4ms/step - loss: 0.0983 - mae: 0.2018 - val_loss: 0.1722 - val_mae: 0.2802\n",
            "Epoch 61/250\n",
            "30/30 [==============================] - 0s 5ms/step - loss: 0.0972 - mae: 0.1953 - val_loss: 0.1861 - val_mae: 0.2854\n",
            "Epoch 62/250\n",
            "30/30 [==============================] - 0s 5ms/step - loss: 0.1066 - mae: 0.2083 - val_loss: 0.1761 - val_mae: 0.2875\n",
            "Epoch 63/250\n",
            "30/30 [==============================] - 0s 4ms/step - loss: 0.0951 - mae: 0.1965 - val_loss: 0.1645 - val_mae: 0.2641\n",
            "Epoch 64/250\n",
            "30/30 [==============================] - 0s 5ms/step - loss: 0.0933 - mae: 0.1934 - val_loss: 0.1541 - val_mae: 0.2558\n",
            "Epoch 65/250\n",
            "30/30 [==============================] - 0s 4ms/step - loss: 0.0895 - mae: 0.1856 - val_loss: 0.1552 - val_mae: 0.2572\n",
            "Epoch 66/250\n",
            "30/30 [==============================] - 0s 4ms/step - loss: 0.0884 - mae: 0.1844 - val_loss: 0.1538 - val_mae: 0.2613\n",
            "Epoch 67/250\n",
            "30/30 [==============================] - 0s 4ms/step - loss: 0.0879 - mae: 0.1876 - val_loss: 0.1582 - val_mae: 0.2593\n",
            "Epoch 68/250\n",
            "30/30 [==============================] - 0s 4ms/step - loss: 0.0848 - mae: 0.1833 - val_loss: 0.1580 - val_mae: 0.2600\n",
            "Epoch 69/250\n",
            "30/30 [==============================] - 0s 4ms/step - loss: 0.0949 - mae: 0.1973 - val_loss: 0.1645 - val_mae: 0.2694\n",
            "Epoch 70/250\n",
            "30/30 [==============================] - 0s 4ms/step - loss: 0.0891 - mae: 0.1886 - val_loss: 0.1620 - val_mae: 0.2679\n",
            "Epoch 71/250\n",
            "30/30 [==============================] - 0s 4ms/step - loss: 0.0876 - mae: 0.1882 - val_loss: 0.1518 - val_mae: 0.2537\n",
            "Epoch 72/250\n",
            "30/30 [==============================] - 0s 4ms/step - loss: 0.0888 - mae: 0.1884 - val_loss: 0.1638 - val_mae: 0.2631\n",
            "Epoch 73/250\n",
            "30/30 [==============================] - 0s 4ms/step - loss: 0.0858 - mae: 0.1890 - val_loss: 0.1664 - val_mae: 0.2621\n",
            "Epoch 74/250\n",
            "30/30 [==============================] - 0s 4ms/step - loss: 0.0884 - mae: 0.1880 - val_loss: 0.1696 - val_mae: 0.2699\n",
            "Epoch 75/250\n",
            "30/30 [==============================] - 0s 4ms/step - loss: 0.0858 - mae: 0.1853 - val_loss: 0.1680 - val_mae: 0.2671\n",
            "Epoch 76/250\n",
            "30/30 [==============================] - 0s 4ms/step - loss: 0.0866 - mae: 0.1839 - val_loss: 0.1575 - val_mae: 0.2583\n",
            "Epoch 77/250\n",
            "30/30 [==============================] - 0s 4ms/step - loss: 0.0868 - mae: 0.1895 - val_loss: 0.1665 - val_mae: 0.2689\n",
            "Epoch 78/250\n",
            "30/30 [==============================] - 0s 4ms/step - loss: 0.0826 - mae: 0.1849 - val_loss: 0.1558 - val_mae: 0.2563\n",
            "Epoch 79/250\n",
            "30/30 [==============================] - 0s 5ms/step - loss: 0.0878 - mae: 0.1878 - val_loss: 0.1592 - val_mae: 0.2650\n",
            "Epoch 80/250\n",
            "30/30 [==============================] - 0s 4ms/step - loss: 0.0886 - mae: 0.1925 - val_loss: 0.1550 - val_mae: 0.2603\n",
            "Epoch 81/250\n",
            "30/30 [==============================] - 0s 4ms/step - loss: 0.0848 - mae: 0.1867 - val_loss: 0.1564 - val_mae: 0.2573\n",
            "Epoch 82/250\n",
            "30/30 [==============================] - 0s 4ms/step - loss: 0.0817 - mae: 0.1804 - val_loss: 0.1595 - val_mae: 0.2593\n",
            "Epoch 83/250\n",
            "30/30 [==============================] - 0s 4ms/step - loss: 0.0804 - mae: 0.1770 - val_loss: 0.1719 - val_mae: 0.2652\n",
            "Epoch 84/250\n",
            "30/30 [==============================] - 0s 4ms/step - loss: 0.0885 - mae: 0.1830 - val_loss: 0.1674 - val_mae: 0.2659\n",
            "Epoch 85/250\n",
            "30/30 [==============================] - 0s 4ms/step - loss: 0.0817 - mae: 0.1804 - val_loss: 0.1621 - val_mae: 0.2649\n",
            "Epoch 86/250\n",
            "30/30 [==============================] - 0s 4ms/step - loss: 0.0908 - mae: 0.1869 - val_loss: 0.1658 - val_mae: 0.2656\n",
            "Epoch 87/250\n",
            "30/30 [==============================] - 0s 4ms/step - loss: 0.0803 - mae: 0.1776 - val_loss: 0.1556 - val_mae: 0.2602\n",
            "Epoch 88/250\n",
            "30/30 [==============================] - 0s 4ms/step - loss: 0.0824 - mae: 0.1814 - val_loss: 0.1599 - val_mae: 0.2581\n",
            "Epoch 89/250\n",
            "30/30 [==============================] - 0s 4ms/step - loss: 0.0842 - mae: 0.1855 - val_loss: 0.1942 - val_mae: 0.2823\n",
            "Epoch 90/250\n",
            "30/30 [==============================] - 0s 4ms/step - loss: 0.0845 - mae: 0.1812 - val_loss: 0.1850 - val_mae: 0.2852\n",
            "Epoch 91/250\n",
            "30/30 [==============================] - 0s 4ms/step - loss: 0.0896 - mae: 0.1948 - val_loss: 0.1622 - val_mae: 0.2621\n",
            "Epoch 92/250\n",
            "30/30 [==============================] - 0s 4ms/step - loss: 0.0827 - mae: 0.1834 - val_loss: 0.1733 - val_mae: 0.2759\n",
            "Epoch 93/250\n",
            "30/30 [==============================] - 0s 4ms/step - loss: 0.0822 - mae: 0.1830 - val_loss: 0.1648 - val_mae: 0.2646\n",
            "Epoch 94/250\n",
            "30/30 [==============================] - 0s 4ms/step - loss: 0.0786 - mae: 0.1801 - val_loss: 0.1704 - val_mae: 0.2696\n",
            "Epoch 95/250\n",
            "30/30 [==============================] - 0s 4ms/step - loss: 0.0791 - mae: 0.1781 - val_loss: 0.1671 - val_mae: 0.2669\n",
            "Epoch 96/250\n",
            "30/30 [==============================] - 0s 4ms/step - loss: 0.0807 - mae: 0.1793 - val_loss: 0.2090 - val_mae: 0.2937\n",
            "Epoch 97/250\n",
            "30/30 [==============================] - 0s 4ms/step - loss: 0.0863 - mae: 0.1928 - val_loss: 0.1743 - val_mae: 0.2703\n",
            "Epoch 98/250\n",
            "30/30 [==============================] - 0s 4ms/step - loss: 0.0806 - mae: 0.1762 - val_loss: 0.1597 - val_mae: 0.2656\n",
            "Epoch 99/250\n",
            "30/30 [==============================] - 0s 4ms/step - loss: 0.0822 - mae: 0.1858 - val_loss: 0.1684 - val_mae: 0.2715\n",
            "Epoch 100/250\n",
            "30/30 [==============================] - 0s 4ms/step - loss: 0.0850 - mae: 0.1805 - val_loss: 0.2836 - val_mae: 0.2921\n",
            "Epoch 101/250\n",
            "30/30 [==============================] - 0s 4ms/step - loss: 0.1179 - mae: 0.1914 - val_loss: 0.2067 - val_mae: 0.2912\n",
            "Epoch 102/250\n",
            "30/30 [==============================] - 0s 4ms/step - loss: 0.0916 - mae: 0.1913 - val_loss: 0.1855 - val_mae: 0.2858\n",
            "Epoch 103/250\n",
            "30/30 [==============================] - 0s 4ms/step - loss: 0.0914 - mae: 0.1964 - val_loss: 0.1830 - val_mae: 0.2839\n",
            "Epoch 104/250\n",
            "30/30 [==============================] - 0s 4ms/step - loss: 0.0862 - mae: 0.1856 - val_loss: 0.1855 - val_mae: 0.2737\n",
            "Epoch 105/250\n",
            "30/30 [==============================] - 0s 4ms/step - loss: 0.0788 - mae: 0.1763 - val_loss: 0.1761 - val_mae: 0.2843\n",
            "Epoch 106/250\n",
            "30/30 [==============================] - 0s 4ms/step - loss: 0.0820 - mae: 0.1861 - val_loss: 0.1656 - val_mae: 0.2677\n",
            "Epoch 107/250\n",
            "30/30 [==============================] - 0s 4ms/step - loss: 0.0768 - mae: 0.1742 - val_loss: 0.1601 - val_mae: 0.2630\n",
            "Epoch 108/250\n",
            "30/30 [==============================] - 0s 4ms/step - loss: 0.0731 - mae: 0.1729 - val_loss: 0.1734 - val_mae: 0.2660\n",
            "Epoch 109/250\n",
            "30/30 [==============================] - 0s 4ms/step - loss: 0.0747 - mae: 0.1706 - val_loss: 0.1659 - val_mae: 0.2658\n",
            "Epoch 110/250\n",
            "30/30 [==============================] - 0s 4ms/step - loss: 0.0728 - mae: 0.1664 - val_loss: 0.1583 - val_mae: 0.2632\n",
            "Epoch 111/250\n",
            "30/30 [==============================] - 0s 4ms/step - loss: 0.0739 - mae: 0.1706 - val_loss: 0.1688 - val_mae: 0.2700\n",
            "Epoch 112/250\n",
            "30/30 [==============================] - 0s 4ms/step - loss: 0.0771 - mae: 0.1758 - val_loss: 0.1638 - val_mae: 0.2652\n",
            "Epoch 113/250\n",
            "30/30 [==============================] - 0s 4ms/step - loss: 0.0761 - mae: 0.1762 - val_loss: 0.1733 - val_mae: 0.2778\n",
            "Epoch 114/250\n",
            "30/30 [==============================] - 0s 5ms/step - loss: 0.0724 - mae: 0.1696 - val_loss: 0.1599 - val_mae: 0.2653\n",
            "Epoch 115/250\n",
            "30/30 [==============================] - 0s 4ms/step - loss: 0.0753 - mae: 0.1691 - val_loss: 0.1614 - val_mae: 0.2675\n",
            "Epoch 116/250\n",
            "30/30 [==============================] - 0s 4ms/step - loss: 0.0732 - mae: 0.1707 - val_loss: 0.1699 - val_mae: 0.2697\n",
            "Epoch 117/250\n",
            "30/30 [==============================] - 0s 4ms/step - loss: 0.0749 - mae: 0.1723 - val_loss: 0.1688 - val_mae: 0.2732\n",
            "Epoch 118/250\n",
            "30/30 [==============================] - 0s 4ms/step - loss: 0.0749 - mae: 0.1724 - val_loss: 0.1672 - val_mae: 0.2669\n",
            "Epoch 119/250\n",
            "30/30 [==============================] - 0s 4ms/step - loss: 0.0817 - mae: 0.1841 - val_loss: 0.1696 - val_mae: 0.2728\n",
            "Epoch 120/250\n",
            "30/30 [==============================] - 0s 4ms/step - loss: 0.0748 - mae: 0.1734 - val_loss: 0.1722 - val_mae: 0.2692\n",
            "Epoch 121/250\n",
            "30/30 [==============================] - 0s 4ms/step - loss: 0.0722 - mae: 0.1666 - val_loss: 0.1737 - val_mae: 0.2687\n",
            "Epoch 122/250\n",
            "30/30 [==============================] - 0s 4ms/step - loss: 0.0768 - mae: 0.1709 - val_loss: 0.1831 - val_mae: 0.2923\n",
            "Epoch 123/250\n",
            "30/30 [==============================] - 0s 4ms/step - loss: 0.0785 - mae: 0.1807 - val_loss: 0.1876 - val_mae: 0.2842\n",
            "Epoch 124/250\n",
            "30/30 [==============================] - 0s 4ms/step - loss: 0.0775 - mae: 0.1826 - val_loss: 0.1724 - val_mae: 0.2732\n",
            "Epoch 125/250\n",
            "30/30 [==============================] - 0s 4ms/step - loss: 0.0719 - mae: 0.1688 - val_loss: 0.1767 - val_mae: 0.2849\n",
            "Epoch 126/250\n",
            "30/30 [==============================] - 0s 5ms/step - loss: 0.0726 - mae: 0.1690 - val_loss: 0.1669 - val_mae: 0.2706\n",
            "Epoch 127/250\n",
            "30/30 [==============================] - 0s 5ms/step - loss: 0.0719 - mae: 0.1670 - val_loss: 0.1763 - val_mae: 0.2726\n",
            "Epoch 128/250\n",
            "30/30 [==============================] - 0s 5ms/step - loss: 0.0715 - mae: 0.1655 - val_loss: 0.1742 - val_mae: 0.2744\n",
            "Epoch 129/250\n",
            "30/30 [==============================] - 0s 4ms/step - loss: 0.0695 - mae: 0.1628 - val_loss: 0.1738 - val_mae: 0.2710\n",
            "Epoch 130/250\n",
            "30/30 [==============================] - 0s 4ms/step - loss: 0.0683 - mae: 0.1609 - val_loss: 0.1736 - val_mae: 0.2742\n",
            "Epoch 131/250\n",
            "30/30 [==============================] - 0s 4ms/step - loss: 0.0704 - mae: 0.1675 - val_loss: 0.1711 - val_mae: 0.2694\n",
            "Epoch 132/250\n",
            "30/30 [==============================] - 0s 4ms/step - loss: 0.0719 - mae: 0.1691 - val_loss: 0.1897 - val_mae: 0.2955\n",
            "Epoch 133/250\n",
            "30/30 [==============================] - 0s 4ms/step - loss: 0.0734 - mae: 0.1754 - val_loss: 0.1749 - val_mae: 0.2763\n",
            "Epoch 134/250\n",
            "30/30 [==============================] - 0s 4ms/step - loss: 0.0701 - mae: 0.1648 - val_loss: 0.1740 - val_mae: 0.2749\n",
            "Epoch 135/250\n",
            "30/30 [==============================] - 0s 4ms/step - loss: 0.0677 - mae: 0.1617 - val_loss: 0.1709 - val_mae: 0.2701\n",
            "Epoch 136/250\n",
            "30/30 [==============================] - 0s 5ms/step - loss: 0.0676 - mae: 0.1610 - val_loss: 0.1759 - val_mae: 0.2771\n",
            "Epoch 137/250\n",
            "30/30 [==============================] - 0s 4ms/step - loss: 0.0696 - mae: 0.1642 - val_loss: 0.1701 - val_mae: 0.2682\n",
            "Epoch 138/250\n",
            "30/30 [==============================] - 0s 4ms/step - loss: 0.0668 - mae: 0.1595 - val_loss: 0.1714 - val_mae: 0.2710\n",
            "Epoch 139/250\n",
            "30/30 [==============================] - 0s 5ms/step - loss: 0.0696 - mae: 0.1660 - val_loss: 0.1981 - val_mae: 0.2887\n",
            "Epoch 140/250\n",
            "30/30 [==============================] - 0s 4ms/step - loss: 0.0715 - mae: 0.1665 - val_loss: 0.1727 - val_mae: 0.2762\n",
            "Epoch 141/250\n",
            "30/30 [==============================] - 0s 4ms/step - loss: 0.0685 - mae: 0.1633 - val_loss: 0.1779 - val_mae: 0.2781\n",
            "Epoch 142/250\n",
            "30/30 [==============================] - 0s 4ms/step - loss: 0.0674 - mae: 0.1595 - val_loss: 0.1758 - val_mae: 0.2754\n",
            "Epoch 143/250\n",
            "30/30 [==============================] - 0s 4ms/step - loss: 0.0676 - mae: 0.1619 - val_loss: 0.1650 - val_mae: 0.2687\n",
            "Epoch 144/250\n",
            "30/30 [==============================] - 0s 4ms/step - loss: 0.0715 - mae: 0.1694 - val_loss: 0.1695 - val_mae: 0.2717\n",
            "Epoch 145/250\n",
            "30/30 [==============================] - 0s 4ms/step - loss: 0.0652 - mae: 0.1582 - val_loss: 0.1763 - val_mae: 0.2776\n",
            "Epoch 146/250\n",
            "30/30 [==============================] - 0s 4ms/step - loss: 0.0675 - mae: 0.1620 - val_loss: 0.1762 - val_mae: 0.2791\n",
            "Epoch 147/250\n",
            "30/30 [==============================] - 0s 4ms/step - loss: 0.0677 - mae: 0.1626 - val_loss: 0.1824 - val_mae: 0.2839\n",
            "Epoch 148/250\n",
            "30/30 [==============================] - 0s 4ms/step - loss: 0.0692 - mae: 0.1642 - val_loss: 0.1817 - val_mae: 0.2785\n",
            "Epoch 149/250\n",
            "30/30 [==============================] - 0s 4ms/step - loss: 0.0684 - mae: 0.1651 - val_loss: 0.1743 - val_mae: 0.2726\n",
            "Epoch 150/250\n",
            "30/30 [==============================] - 0s 4ms/step - loss: 0.0659 - mae: 0.1574 - val_loss: 0.1940 - val_mae: 0.2867\n",
            "Epoch 151/250\n",
            "30/30 [==============================] - 0s 4ms/step - loss: 0.0694 - mae: 0.1622 - val_loss: 0.1846 - val_mae: 0.2821\n",
            "Epoch 152/250\n",
            "30/30 [==============================] - 0s 4ms/step - loss: 0.0661 - mae: 0.1607 - val_loss: 0.1799 - val_mae: 0.2757\n",
            "Epoch 153/250\n",
            "30/30 [==============================] - 0s 4ms/step - loss: 0.0687 - mae: 0.1631 - val_loss: 0.1805 - val_mae: 0.2832\n",
            "Epoch 154/250\n",
            "30/30 [==============================] - 0s 4ms/step - loss: 0.0738 - mae: 0.1730 - val_loss: 0.1659 - val_mae: 0.2649\n",
            "Epoch 155/250\n",
            "30/30 [==============================] - 0s 4ms/step - loss: 0.0689 - mae: 0.1637 - val_loss: 0.1713 - val_mae: 0.2730\n",
            "Epoch 156/250\n",
            "30/30 [==============================] - 0s 4ms/step - loss: 0.0675 - mae: 0.1629 - val_loss: 0.1846 - val_mae: 0.2824\n",
            "Epoch 157/250\n",
            "30/30 [==============================] - 0s 4ms/step - loss: 0.0704 - mae: 0.1644 - val_loss: 0.1722 - val_mae: 0.2775\n",
            "Epoch 158/250\n",
            "30/30 [==============================] - 0s 4ms/step - loss: 0.0659 - mae: 0.1621 - val_loss: 0.1769 - val_mae: 0.2729\n",
            "Epoch 159/250\n",
            "30/30 [==============================] - 0s 4ms/step - loss: 0.0668 - mae: 0.1620 - val_loss: 0.1680 - val_mae: 0.2634\n",
            "Epoch 160/250\n",
            "30/30 [==============================] - 0s 4ms/step - loss: 0.0651 - mae: 0.1550 - val_loss: 0.1767 - val_mae: 0.2807\n",
            "Epoch 161/250\n",
            "30/30 [==============================] - 0s 4ms/step - loss: 0.0672 - mae: 0.1613 - val_loss: 0.2179 - val_mae: 0.3001\n",
            "Epoch 162/250\n",
            "30/30 [==============================] - 0s 5ms/step - loss: 0.0772 - mae: 0.1805 - val_loss: 0.1868 - val_mae: 0.2861\n",
            "Epoch 163/250\n",
            "30/30 [==============================] - 0s 5ms/step - loss: 0.0659 - mae: 0.1596 - val_loss: 0.1743 - val_mae: 0.2733\n",
            "Epoch 164/250\n",
            "30/30 [==============================] - 0s 4ms/step - loss: 0.0693 - mae: 0.1647 - val_loss: 0.1815 - val_mae: 0.2842\n",
            "Epoch 165/250\n",
            "30/30 [==============================] - 0s 4ms/step - loss: 0.0646 - mae: 0.1561 - val_loss: 0.1730 - val_mae: 0.2743\n",
            "Epoch 166/250\n",
            "30/30 [==============================] - 0s 4ms/step - loss: 0.0658 - mae: 0.1595 - val_loss: 0.1720 - val_mae: 0.2766\n",
            "Epoch 167/250\n",
            "30/30 [==============================] - 0s 4ms/step - loss: 0.0669 - mae: 0.1631 - val_loss: 0.1980 - val_mae: 0.2972\n",
            "Epoch 168/250\n",
            "30/30 [==============================] - 0s 5ms/step - loss: 0.0635 - mae: 0.1554 - val_loss: 0.1674 - val_mae: 0.2684\n",
            "Epoch 169/250\n",
            "30/30 [==============================] - 0s 5ms/step - loss: 0.0676 - mae: 0.1630 - val_loss: 0.1878 - val_mae: 0.2916\n",
            "Epoch 170/250\n",
            "30/30 [==============================] - 0s 4ms/step - loss: 0.0643 - mae: 0.1592 - val_loss: 0.1734 - val_mae: 0.2759\n",
            "Epoch 171/250\n",
            "30/30 [==============================] - 0s 4ms/step - loss: 0.0693 - mae: 0.1660 - val_loss: 0.1848 - val_mae: 0.2953\n",
            "Epoch 172/250\n",
            "30/30 [==============================] - 0s 4ms/step - loss: 0.0667 - mae: 0.1643 - val_loss: 0.1709 - val_mae: 0.2713\n",
            "Epoch 173/250\n",
            "30/30 [==============================] - 0s 4ms/step - loss: 0.0640 - mae: 0.1561 - val_loss: 0.1796 - val_mae: 0.2794\n",
            "Epoch 174/250\n",
            "30/30 [==============================] - 0s 4ms/step - loss: 0.0622 - mae: 0.1538 - val_loss: 0.1670 - val_mae: 0.2764\n",
            "Epoch 175/250\n",
            "30/30 [==============================] - 0s 4ms/step - loss: 0.0652 - mae: 0.1585 - val_loss: 0.1741 - val_mae: 0.2724\n",
            "Epoch 176/250\n",
            "30/30 [==============================] - 0s 4ms/step - loss: 0.0748 - mae: 0.1811 - val_loss: 0.1729 - val_mae: 0.2804\n",
            "Epoch 177/250\n",
            "30/30 [==============================] - 0s 4ms/step - loss: 0.0732 - mae: 0.1734 - val_loss: 0.1845 - val_mae: 0.2857\n",
            "Epoch 178/250\n",
            "30/30 [==============================] - 0s 4ms/step - loss: 0.0677 - mae: 0.1615 - val_loss: 0.1758 - val_mae: 0.2760\n",
            "Epoch 179/250\n",
            "30/30 [==============================] - 0s 4ms/step - loss: 0.0651 - mae: 0.1613 - val_loss: 0.1701 - val_mae: 0.2730\n",
            "Epoch 180/250\n",
            "30/30 [==============================] - 0s 4ms/step - loss: 0.0650 - mae: 0.1616 - val_loss: 0.1720 - val_mae: 0.2780\n",
            "Epoch 181/250\n",
            "30/30 [==============================] - 0s 4ms/step - loss: 0.0637 - mae: 0.1585 - val_loss: 0.1773 - val_mae: 0.2767\n",
            "Epoch 182/250\n",
            "30/30 [==============================] - 0s 4ms/step - loss: 0.0648 - mae: 0.1575 - val_loss: 0.1794 - val_mae: 0.2761\n",
            "Epoch 183/250\n",
            "30/30 [==============================] - 0s 4ms/step - loss: 0.0640 - mae: 0.1594 - val_loss: 0.1840 - val_mae: 0.2855\n",
            "Epoch 184/250\n",
            "30/30 [==============================] - 0s 4ms/step - loss: 0.0653 - mae: 0.1613 - val_loss: 0.1766 - val_mae: 0.2792\n",
            "Epoch 185/250\n",
            "30/30 [==============================] - 0s 4ms/step - loss: 0.0610 - mae: 0.1515 - val_loss: 0.1785 - val_mae: 0.2785\n",
            "Epoch 186/250\n",
            "30/30 [==============================] - 0s 4ms/step - loss: 0.0617 - mae: 0.1527 - val_loss: 0.1801 - val_mae: 0.2776\n",
            "Epoch 187/250\n",
            "30/30 [==============================] - 0s 4ms/step - loss: 0.0634 - mae: 0.1543 - val_loss: 0.1698 - val_mae: 0.2752\n",
            "Epoch 188/250\n",
            "30/30 [==============================] - 0s 4ms/step - loss: 0.0627 - mae: 0.1556 - val_loss: 0.1794 - val_mae: 0.2832\n",
            "Epoch 189/250\n",
            "30/30 [==============================] - 0s 4ms/step - loss: 0.0612 - mae: 0.1516 - val_loss: 0.1829 - val_mae: 0.2792\n",
            "Epoch 190/250\n",
            "30/30 [==============================] - 0s 4ms/step - loss: 0.0670 - mae: 0.1615 - val_loss: 0.1848 - val_mae: 0.2843\n",
            "Epoch 191/250\n",
            "30/30 [==============================] - 0s 5ms/step - loss: 0.0661 - mae: 0.1586 - val_loss: 0.2089 - val_mae: 0.2921\n",
            "Epoch 192/250\n",
            "30/30 [==============================] - 0s 4ms/step - loss: 0.0696 - mae: 0.1666 - val_loss: 0.1828 - val_mae: 0.2875\n",
            "Epoch 193/250\n",
            "30/30 [==============================] - 0s 4ms/step - loss: 0.0649 - mae: 0.1589 - val_loss: 0.1688 - val_mae: 0.2728\n",
            "Epoch 194/250\n",
            "30/30 [==============================] - 0s 4ms/step - loss: 0.0639 - mae: 0.1564 - val_loss: 0.1856 - val_mae: 0.2885\n",
            "Epoch 195/250\n",
            "30/30 [==============================] - 0s 4ms/step - loss: 0.0634 - mae: 0.1547 - val_loss: 0.1763 - val_mae: 0.2781\n",
            "Epoch 196/250\n",
            "30/30 [==============================] - 0s 4ms/step - loss: 0.0631 - mae: 0.1576 - val_loss: 0.1872 - val_mae: 0.2902\n",
            "Epoch 197/250\n",
            "30/30 [==============================] - 0s 4ms/step - loss: 0.0631 - mae: 0.1550 - val_loss: 0.1850 - val_mae: 0.2870\n",
            "Epoch 198/250\n",
            "30/30 [==============================] - 0s 4ms/step - loss: 0.0633 - mae: 0.1562 - val_loss: 0.1948 - val_mae: 0.2849\n",
            "Epoch 199/250\n",
            "30/30 [==============================] - 0s 4ms/step - loss: 0.0663 - mae: 0.1612 - val_loss: 0.1934 - val_mae: 0.2968\n",
            "Epoch 200/250\n",
            "30/30 [==============================] - 0s 4ms/step - loss: 0.0658 - mae: 0.1614 - val_loss: 0.2037 - val_mae: 0.2976\n",
            "Epoch 201/250\n",
            "30/30 [==============================] - 0s 4ms/step - loss: 0.0641 - mae: 0.1586 - val_loss: 0.1594 - val_mae: 0.2659\n",
            "Epoch 202/250\n",
            "30/30 [==============================] - 0s 4ms/step - loss: 0.0595 - mae: 0.1501 - val_loss: 0.1860 - val_mae: 0.2880\n",
            "Epoch 203/250\n",
            "30/30 [==============================] - 0s 5ms/step - loss: 0.0727 - mae: 0.1651 - val_loss: 0.1835 - val_mae: 0.2878\n",
            "Epoch 204/250\n",
            "30/30 [==============================] - 0s 4ms/step - loss: 0.0658 - mae: 0.1647 - val_loss: 0.1744 - val_mae: 0.2781\n",
            "Epoch 205/250\n",
            "30/30 [==============================] - 0s 4ms/step - loss: 0.0630 - mae: 0.1549 - val_loss: 0.1707 - val_mae: 0.2710\n",
            "Epoch 206/250\n",
            "30/30 [==============================] - 0s 5ms/step - loss: 0.0619 - mae: 0.1535 - val_loss: 0.1715 - val_mae: 0.2758\n",
            "Epoch 207/250\n",
            "30/30 [==============================] - 0s 4ms/step - loss: 0.0591 - mae: 0.1477 - val_loss: 0.1919 - val_mae: 0.2902\n",
            "Epoch 208/250\n",
            "30/30 [==============================] - 0s 4ms/step - loss: 0.0636 - mae: 0.1577 - val_loss: 0.1740 - val_mae: 0.2777\n",
            "Epoch 209/250\n",
            "30/30 [==============================] - 0s 5ms/step - loss: 0.0600 - mae: 0.1491 - val_loss: 0.1774 - val_mae: 0.2830\n",
            "Epoch 210/250\n",
            "30/30 [==============================] - 0s 4ms/step - loss: 0.0615 - mae: 0.1507 - val_loss: 0.1791 - val_mae: 0.2795\n",
            "Epoch 211/250\n",
            "30/30 [==============================] - 0s 4ms/step - loss: 0.0635 - mae: 0.1614 - val_loss: 0.1823 - val_mae: 0.2765\n",
            "Epoch 212/250\n",
            "30/30 [==============================] - 0s 4ms/step - loss: 0.0610 - mae: 0.1520 - val_loss: 0.1682 - val_mae: 0.2748\n",
            "Epoch 213/250\n",
            "30/30 [==============================] - 0s 4ms/step - loss: 0.0583 - mae: 0.1475 - val_loss: 0.1759 - val_mae: 0.2766\n",
            "Epoch 214/250\n",
            "30/30 [==============================] - 0s 4ms/step - loss: 0.0598 - mae: 0.1510 - val_loss: 0.1790 - val_mae: 0.2783\n",
            "Epoch 215/250\n",
            "30/30 [==============================] - 0s 4ms/step - loss: 0.0605 - mae: 0.1535 - val_loss: 0.1816 - val_mae: 0.2875\n",
            "Epoch 216/250\n",
            "30/30 [==============================] - 0s 4ms/step - loss: 0.0603 - mae: 0.1519 - val_loss: 0.1861 - val_mae: 0.2910\n",
            "Epoch 217/250\n",
            "30/30 [==============================] - 0s 4ms/step - loss: 0.0641 - mae: 0.1579 - val_loss: 0.2068 - val_mae: 0.3069\n",
            "Epoch 218/250\n",
            "30/30 [==============================] - 0s 5ms/step - loss: 0.0607 - mae: 0.1566 - val_loss: 0.1868 - val_mae: 0.2819\n",
            "Epoch 219/250\n",
            "30/30 [==============================] - 0s 4ms/step - loss: 0.0593 - mae: 0.1482 - val_loss: 0.1748 - val_mae: 0.2793\n",
            "Epoch 220/250\n",
            "30/30 [==============================] - 0s 4ms/step - loss: 0.0683 - mae: 0.1693 - val_loss: 0.1666 - val_mae: 0.2650\n",
            "Epoch 221/250\n",
            "30/30 [==============================] - 0s 5ms/step - loss: 0.0608 - mae: 0.1533 - val_loss: 0.1804 - val_mae: 0.2753\n",
            "Epoch 222/250\n",
            "30/30 [==============================] - 0s 4ms/step - loss: 0.0634 - mae: 0.1600 - val_loss: 0.1819 - val_mae: 0.2831\n",
            "Epoch 223/250\n",
            "30/30 [==============================] - 0s 4ms/step - loss: 0.0692 - mae: 0.1671 - val_loss: 0.1791 - val_mae: 0.2774\n",
            "Epoch 224/250\n",
            "30/30 [==============================] - 0s 4ms/step - loss: 0.0612 - mae: 0.1532 - val_loss: 0.1816 - val_mae: 0.2761\n",
            "Epoch 225/250\n",
            "30/30 [==============================] - 0s 4ms/step - loss: 0.0624 - mae: 0.1573 - val_loss: 0.2125 - val_mae: 0.2960\n",
            "Epoch 226/250\n",
            "30/30 [==============================] - 0s 4ms/step - loss: 0.0724 - mae: 0.1665 - val_loss: 0.1852 - val_mae: 0.2801\n",
            "Epoch 227/250\n",
            "30/30 [==============================] - 0s 5ms/step - loss: 0.0795 - mae: 0.1703 - val_loss: 0.1903 - val_mae: 0.2869\n",
            "Epoch 228/250\n",
            "30/30 [==============================] - 0s 5ms/step - loss: 0.0686 - mae: 0.1692 - val_loss: 0.1744 - val_mae: 0.2796\n",
            "Epoch 229/250\n",
            "30/30 [==============================] - 0s 5ms/step - loss: 0.0639 - mae: 0.1601 - val_loss: 0.1795 - val_mae: 0.2774\n",
            "Epoch 230/250\n",
            "30/30 [==============================] - 0s 4ms/step - loss: 0.0634 - mae: 0.1597 - val_loss: 0.1762 - val_mae: 0.2766\n",
            "Epoch 231/250\n",
            "30/30 [==============================] - 0s 4ms/step - loss: 0.0634 - mae: 0.1574 - val_loss: 0.1743 - val_mae: 0.2741\n",
            "Epoch 232/250\n",
            "30/30 [==============================] - 0s 5ms/step - loss: 0.0628 - mae: 0.1567 - val_loss: 0.1845 - val_mae: 0.2838\n",
            "Epoch 233/250\n",
            "30/30 [==============================] - 0s 4ms/step - loss: 0.0597 - mae: 0.1486 - val_loss: 0.1921 - val_mae: 0.2865\n",
            "Epoch 234/250\n",
            "30/30 [==============================] - 0s 4ms/step - loss: 0.0601 - mae: 0.1498 - val_loss: 0.1775 - val_mae: 0.2763\n",
            "Epoch 235/250\n",
            "30/30 [==============================] - 0s 4ms/step - loss: 0.0602 - mae: 0.1525 - val_loss: 0.1996 - val_mae: 0.2866\n",
            "Epoch 236/250\n",
            "30/30 [==============================] - 0s 5ms/step - loss: 0.0598 - mae: 0.1487 - val_loss: 0.1730 - val_mae: 0.2741\n",
            "Epoch 237/250\n",
            "30/30 [==============================] - 0s 4ms/step - loss: 0.0669 - mae: 0.1649 - val_loss: 0.1973 - val_mae: 0.2961\n",
            "Epoch 238/250\n",
            "30/30 [==============================] - 0s 4ms/step - loss: 0.0648 - mae: 0.1630 - val_loss: 0.1776 - val_mae: 0.2798\n",
            "Epoch 239/250\n",
            "30/30 [==============================] - 0s 5ms/step - loss: 0.0590 - mae: 0.1458 - val_loss: 0.1793 - val_mae: 0.2776\n",
            "Epoch 240/250\n",
            "30/30 [==============================] - 0s 4ms/step - loss: 0.0578 - mae: 0.1422 - val_loss: 0.1721 - val_mae: 0.2735\n",
            "Epoch 241/250\n",
            "30/30 [==============================] - 0s 4ms/step - loss: 0.0578 - mae: 0.1429 - val_loss: 0.1696 - val_mae: 0.2720\n",
            "Epoch 242/250\n",
            "30/30 [==============================] - 0s 4ms/step - loss: 0.0575 - mae: 0.1454 - val_loss: 0.1909 - val_mae: 0.2902\n",
            "Epoch 243/250\n",
            "30/30 [==============================] - 0s 4ms/step - loss: 0.0572 - mae: 0.1451 - val_loss: 0.1819 - val_mae: 0.2794\n",
            "Epoch 244/250\n",
            "30/30 [==============================] - 0s 5ms/step - loss: 0.0588 - mae: 0.1503 - val_loss: 0.1865 - val_mae: 0.2908\n",
            "Epoch 245/250\n",
            "30/30 [==============================] - 0s 4ms/step - loss: 0.0571 - mae: 0.1450 - val_loss: 0.1818 - val_mae: 0.2824\n",
            "Epoch 246/250\n",
            "30/30 [==============================] - 0s 4ms/step - loss: 0.0564 - mae: 0.1425 - val_loss: 0.1838 - val_mae: 0.2879\n",
            "Epoch 247/250\n",
            "30/30 [==============================] - 0s 4ms/step - loss: 0.0580 - mae: 0.1490 - val_loss: 0.1721 - val_mae: 0.2743\n",
            "Epoch 248/250\n",
            "30/30 [==============================] - 0s 4ms/step - loss: 0.0572 - mae: 0.1475 - val_loss: 0.1822 - val_mae: 0.2813\n",
            "Epoch 249/250\n",
            "30/30 [==============================] - 0s 4ms/step - loss: 0.0592 - mae: 0.1487 - val_loss: 0.1753 - val_mae: 0.2831\n",
            "Epoch 250/250\n",
            "30/30 [==============================] - 0s 4ms/step - loss: 0.0558 - mae: 0.1405 - val_loss: 0.1904 - val_mae: 0.2985\n"
          ]
        }
      ]
    },
    {
      "cell_type": "code",
      "source": [
        "# Draw a graph of the loss, which is the distance between\n",
        "# the predicted and actual values during training and validation.\n",
        "import matplotlib.pyplot as plt\n",
        "train_loss = history_1.history['mae']\n",
        "val_loss = history_1.history['mae']\n",
        "epochs = range(1, len(train_loss) + 1)\n",
        "\n",
        "plt.plot(epochs, train_loss, 'g.', label='Training loss')\n",
        "plt.plot(epochs, val_loss, 'b', label='Validation loss')\n",
        "plt.title('Training and validation loss')\n",
        "plt.xlabel('Epochs')\n",
        "plt.ylabel('Loss')\n",
        "plt.legend()\n",
        "plt.show()\n",
        "\n",
        "# Exclude the first few epochs so the graph is easier to read\n",
        "SKIP = 20\n",
        "\n",
        "plt.plot(epochs[SKIP:], train_loss[SKIP:], 'g.', label='Training loss')\n",
        "plt.plot(epochs[SKIP:], val_loss[SKIP:], 'b.', label='Validation loss')\n",
        "plt.title('Training and validation loss')\n",
        "plt.xlabel('Epochs')\n",
        "plt.ylabel('Loss')\n",
        "plt.legend()\n",
        "plt.show()"
      ],
      "metadata": {
        "colab": {
          "base_uri": "https://localhost:8080/",
          "height": 573
        },
        "id": "G8Wou-W8Bi1q",
        "outputId": "b30e88e9-5ab5-49a3-ba93-94d4bf9f7e48"
      },
      "execution_count": null,
      "outputs": [
        {
          "output_type": "display_data",
          "data": {
            "text/plain": [
              "<Figure size 432x288 with 1 Axes>"
            ],
            "image/png": "[encoded data removed]"
          },
          "metadata": {
            "needs_background": "light"
          }
        },
        {
          "output_type": "display_data",
          "data": {
            "text/plain": [
              "<Figure size 432x288 with 1 Axes>"
            ],
            "image/png": "[encoded data removed]"
          },
          "metadata": {
            "needs_background": "light"
          }
        }
      ]
    },
    {
      "cell_type": "code",
      "source": [
        "test = pd.read_csv('test.csv')"
      ],
      "metadata": {
        "id": "eod4AEQ6BzHS"
      },
      "execution_count": null,
      "outputs": []
    },
    {
      "cell_type": "code",
      "source": [
        "test = test[['MSSubClass', 'MSZoning', 'LotFrontage', 'LotArea', 'LotShape', 'OverallQual','OverallCond']]"
      ],
      "metadata": {
        "id": "jvTK9_p_B8r4"
      },
      "execution_count": null,
      "outputs": []
    },
    {
      "cell_type": "code",
      "source": [
        "test['MSSubClass'] = test['MSSubClass'].astype(str) "
      ],
      "metadata": {
        "colab": {
          "base_uri": "https://localhost:8080/"
        },
        "id": "HBvFM4SBC3L8",
        "outputId": "747cf6ac-b281-4473-80f8-8c9073d7fc0b"
      },
      "execution_count": null,
      "outputs": [
        {
          "output_type": "stream",
          "name": "stderr",
          "text": [
            "/usr/local/lib/python3.7/dist-packages/ipykernel_launcher.py:1: SettingWithCopyWarning: \n",
            "A value is trying to be set on a copy of a slice from a DataFrame.\n",
            "Try using .loc[row_indexer,col_indexer] = value instead\n",
            "\n",
            "See the caveats in the documentation: https://pandas.pydata.org/pandas-docs/stable/user_guide/indexing.html#returning-a-view-versus-a-copy\n",
            "  \"\"\"Entry point for launching an IPython kernel.\n"
          ]
        }
      ]
    },
    {
      "cell_type": "code",
      "source": [
        "dict(test.iloc[0])"
      ],
      "metadata": {
        "colab": {
          "base_uri": "https://localhost:8080/"
        },
        "id": "P5A2W55uDbXi",
        "outputId": "40426629-afef-4930-a8d8-db5a98d3e186"
      },
      "execution_count": null,
      "outputs": [
        {
          "output_type": "execute_result",
          "data": {
            "text/plain": [
              "{'MSSubClass': '20',\n",
              " 'MSZoning': 'RH',\n",
              " 'LotFrontage': 80.0,\n",
              " 'LotArea': 11622,\n",
              " 'LotShape': 'Reg',\n",
              " 'OverallQual': 5,\n",
              " 'OverallCond': 6}"
            ]
          },
          "metadata": {},
          "execution_count": 56
        }
      ]
    },
    {
      "cell_type": "code",
      "source": [
        "test.info()"
      ],
      "metadata": {
        "colab": {
          "base_uri": "https://localhost:8080/"
        },
        "id": "iKlcfcgVEiDW",
        "outputId": "bd1030f3-ade4-48b8-f650-10ea2eaf3699"
      },
      "execution_count": null,
      "outputs": [
        {
          "output_type": "stream",
          "name": "stdout",
          "text": [
            "<class 'pandas.core.frame.DataFrame'>\n",
            "RangeIndex: 1459 entries, 0 to 1458\n",
            "Data columns (total 7 columns):\n",
            " #   Column       Non-Null Count  Dtype  \n",
            "---  ------       --------------  -----  \n",
            " 0   MSSubClass   1459 non-null   object \n",
            " 1   MSZoning     1459 non-null   object \n",
            " 2   LotFrontage  1459 non-null   float64\n",
            " 3   LotArea      1459 non-null   int64  \n",
            " 4   LotShape     1459 non-null   object \n",
            " 5   OverallQual  1459 non-null   int64  \n",
            " 6   OverallCond  1459 non-null   int64  \n",
            "dtypes: float64(1), int64(3), object(3)\n",
            "memory usage: 79.9+ KB\n"
          ]
        }
      ]
    },
    {
      "cell_type": "code",
      "source": [
        "test['MSZoning'].fillna('RL', inplace=True)\n",
        "test['LotFrontage'].fillna(test['LotFrontage'].mean(), inplace=True)"
      ],
      "metadata": {
        "colab": {
          "base_uri": "https://localhost:8080/"
        },
        "id": "SQElOe83Epok",
        "outputId": "1b52a84a-0006-4262-ac1a-63c2f51af3e8"
      },
      "execution_count": null,
      "outputs": [
        {
          "output_type": "stream",
          "name": "stderr",
          "text": [
            "/usr/local/lib/python3.7/dist-packages/pandas/core/generic.py:6392: SettingWithCopyWarning: \n",
            "A value is trying to be set on a copy of a slice from a DataFrame\n",
            "\n",
            "See the caveats in the documentation: https://pandas.pydata.org/pandas-docs/stable/user_guide/indexing.html#returning-a-view-versus-a-copy\n",
            "  return self._update_inplace(result)\n"
          ]
        }
      ]
    },
    {
      "cell_type": "code",
      "source": [
        "value = {'MSSubClass': np.array(test['MSSubClass']),\n",
        " 'MSZoning': np.array(test['MSZoning']),\n",
        " 'LotFrontage': np.array(test['LotFrontage']),\n",
        " 'LotArea': np.array(test['LotArea']),\n",
        " 'LotShape': np.array(test['LotShape']),\n",
        " 'OverallQual': np.array(test['OverallQual']),\n",
        " 'OverallCond': np.array(test['OverallCond'])}"
      ],
      "metadata": {
        "id": "beLH68IaDgBA"
      },
      "execution_count": null,
      "outputs": []
    },
    {
      "cell_type": "code",
      "source": [
        "ans = housePrices_model.predict(value)"
      ],
      "metadata": {
        "id": "9HSzFlkCCJ6K"
      },
      "execution_count": null,
      "outputs": []
    },
    {
      "cell_type": "code",
      "source": [
        "print(ans)"
      ],
      "metadata": {
        "colab": {
          "base_uri": "https://localhost:8080/"
        },
        "id": "N_lirqD8EBT-",
        "outputId": "1cbec9c7-5d4a-4ae4-8358-ce4a44a3fd20"
      },
      "execution_count": null,
      "outputs": [
        {
          "output_type": "stream",
          "name": "stdout",
          "text": [
            "[[142103.69]\n",
            " [179504.78]\n",
            " [160893.45]\n",
            " ...\n",
            " [214201.77]\n",
            " [131329.5 ]\n",
            " [236105.56]]\n"
          ]
        }
      ]
    },
    {
      "cell_type": "code",
      "source": [
        "ans *= 100000"
      ],
      "metadata": {
        "id": "MtMkeMVCGXnc"
      },
      "execution_count": null,
      "outputs": []
    },
    {
      "cell_type": "code",
      "source": [
        "ans.shape"
      ],
      "metadata": {
        "colab": {
          "base_uri": "https://localhost:8080/"
        },
        "id": "yIbd-f4dGc8M",
        "outputId": "8e48df1f-8599-4d57-9ab6-1bd0a131f9a4"
      },
      "execution_count": null,
      "outputs": [
        {
          "output_type": "execute_result",
          "data": {
            "text/plain": [
              "(1459, 1)"
            ]
          },
          "metadata": {},
          "execution_count": 88
        }
      ]
    },
    {
      "cell_type": "code",
      "source": [
        "final_data = pd.DataFrame(data={'SalePrice': [num[0] for num in list(ans)]})"
      ],
      "metadata": {
        "id": "NFvbw2OvHKtN"
      },
      "execution_count": null,
      "outputs": []
    },
    {
      "cell_type": "code",
      "source": [
        "final_data.to_csv('submission.csv')"
      ],
      "metadata": {
        "id": "XoD79c_UGiEB"
      },
      "execution_count": null,
      "outputs": []
    }
  ]
}